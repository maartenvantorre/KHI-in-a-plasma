{
  "cells": [
    {
      "cell_type": "code",
      "source": [
        "!pip install yt\n",
        "!pip install f90nml"
      ],
      "metadata": {
        "id": "s_ldGIDxKGK2"
      },
      "execution_count": 2,
      "outputs": []
    },
    {
      "cell_type": "code",
      "execution_count": null,
      "metadata": {
        "id": "Qfnekui7JS_q"
      },
      "outputs": [],
      "source": [
        "import yt\n",
        "import matplotlib.pyplot as plt\n",
        "import numpy as np\n",
        "import glob\n",
        "import os"
      ]
    },
    {
      "cell_type": "code",
      "source": [
        "from math import pi, sqrt\n",
        "mp = 1.66e-24 #g/cm^3\n",
        "kB = 1.3806488e-16 #erg K^-1\n",
        "gamma = 5/3\n",
        "miu0=4.0*pi\n",
        "\n",
        "# Choose your mode number\n",
        "n = 3\n",
        "\n",
        "He_abundance = 0.1\n",
        "unit_numberdensity = 1\n",
        "unit_temperature = 1\n",
        "unit_length = 1\n",
        "\n",
        "unit_density=(1.0+4.0*He_abundance)*mp*unit_numberdensity\n",
        "unit_pressure=(2.0+3.0*He_abundance)*unit_numberdensity*kB*unit_temperature\n",
        "unit_velocity=sqrt(unit_pressure/unit_density)\n",
        "unit_magneticfield=sqrt(miu0*unit_pressure)\n",
        "unit_time=unit_length/unit_velocity\n",
        "\n",
        "print(\"UNIT Time \", unit_time)\n",
        "\n",
        "#choose the correct path here\n",
        "ds = yt.load(\"/content/drive/MyDrive/B=0.009/16_modes_B_0.0090000.dat\")\n",
        "\n",
        "ds.fields\n",
        "\n",
        "ad = ds.all_data()\n",
        "density = ad[\"gas\",\"density\"]\n",
        "MF_1 = ad[\"gas\",\"magnetic_1\"]\n",
        "thermal_pressure = ad[\"gas\",\"thermal_pressure\"]\n",
        "Vx = ad[\"gas\",\"velocity_x\"]\n",
        "Vy = ad[\"gas\",\"velocity_y\"]\n",
        "x = ad[\"amrvac\",\"y\"]\n",
        "\n",
        "me = 0.5*((ad[\"b1\"].to_ndarray())**2 + (ad[\"b2\"].to_ndarray())**2)\n",
        "ke= 0.5 * ((ad[\"m1\"].to_ndarray()**2 + ad[\"m2\"].to_ndarray()**2)/ad[\"rho\"].to_ndarray())\n",
        "inte = ad[\"e\"].to_ndarray() - me - ke \n",
        "pressure = inte * (gamma-1)\n",
        "vel_x = ad[\"m1\"].to_ndarray()/ad[\"rho\"].to_ndarray() \n",
        "vel_y = ad[\"m2\"].to_ndarray()/ad[\"rho\"].to_ndarray() \n",
        "rho = ad[\"rho\"].to_ndarray()\n",
        "rho1 = rho[-1] \n",
        "rho2 = rho[0] \n",
        "print(\"Thermal pressure \", pressure)\n",
        "print(\"Magnetic pressure \", me)\n",
        "print(\"M1 \", ad[\"b1\"].to_ndarray())\n",
        "print(\"M2 \", ad[\"b2\"].to_ndarray())\n",
        "beta_plasma = pressure/me\n",
        "print(\"BETA PLASMA \", beta_plasma[0])\n",
        "deltaV = 2*vel_x[0]\n",
        "print(\"Delta V nondim  \", deltaV)\n",
        "print(\"Delta V with units  \", deltaV*unit_velocity)\n",
        "\n",
        "domain_x = ds.domain_right_edge[0] - ds.domain_left_edge[0]\n",
        "print(\"NONDIM domain_x \", domain_x)\n",
        "\n",
        "k = float(2*np.pi*n/domain_x )\n",
        "Growth_rate_squared = (k**2)*(rho1/(rho1+rho2)) *( ( rho2/(rho1+rho2) )*(deltaV**2)- 4/(gamma*beta_plasma[0]*rho1)* pressure[0]*gamma )\n",
        "print(\"sigma**2 \", Growth_rate_squared)\n",
        "print(\"NONDIM growth rate \", (Growth_rate_squared)**0.5)\n",
        "\n",
        "#https://arxiv.org/pdf/1907.12507.pdf\n",
        "#cgs units     \n",
        "import numpy as np\n",
        "domain_x = max(x)\n",
        "print(\"DOMAIN X \", domain_x)\n",
        "\n",
        "\n",
        "\n",
        "B = float(MF_1[0])# G\n",
        "Pressure_magnetic = float((B**2)/(8*np.pi) )\n",
        "k = float(2*np.pi*n/domain_x )\n",
        "\n",
        "\n",
        "rho_1 = float(density[-1]) # g/cm^3\n",
        "print(\"rho1 with units \", rho_1)\n",
        "rho_2 =float( density[0]) # g/cm^3\n",
        "print(\"rho2 with units \", rho_2)\n",
        "Pressure =  float(thermal_pressure[0]) # g/(cm*s**2)\n",
        "Delta_V = 2*float(Vx[0] )# cm/s #Vy probably\n",
        "print(\"Delta V \", Delta_V)\n",
        "Gamma = 5/3\n",
        "\n",
        "Plasma_beta = Pressure/Pressure_magnetic\n",
        "print(\"Plasma beta \", Plasma_beta)\n",
        "\n",
        "V1 = Vx[-1]\n",
        "V2 = Vx[0]\n",
        "\n",
        "# NOTE: SECOND TERM ON THE RIGHT HAND SIDE SHOULD BE DELETED WHEN ANALYSING THE CASE WITHOUT A MAGNETIC FIELD\n",
        "Growth_rate_squared = (k**2)*(rho_1/(rho_1+rho_2)) *( ( rho_2/(rho_1+rho_2) )*(Delta_V**2)- 4/(Gamma*Plasma_beta*rho_1)* Pressure*Gamma  )\n",
        "print(\"sigma**2 with units \", Growth_rate_squared)\n",
        "Growth_rate = (Growth_rate_squared)**0.5\n",
        "\n",
        "print(Growth_rate)\n",
        "print(\"NONDIM growth rate \", Growth_rate*unit_time)\n",
        "print(abs(Growth_rate))"
      ],
      "metadata": {
        "id": "1MdTPCuyhHn4"
      },
      "execution_count": 6,
      "outputs": []
    }
  ],
  "metadata": {
    "kernelspec": {
      "display_name": "Python 3",
      "language": "python",
      "name": "python3"
    },
    "language_info": {
      "codemirror_mode": {
        "name": "ipython",
        "version": 3
      },
      "file_extension": ".py",
      "mimetype": "text/x-python",
      "name": "python",
      "nbconvert_exporter": "python",
      "pygments_lexer": "ipython3",
      "version": "3.8.5"
    },
    "colab": {
      "name": "Theoretical Growth rate.ipynb",
      "provenance": [],
      "collapsed_sections": []
    }
  },
  "nbformat": 4,
  "nbformat_minor": 0
}